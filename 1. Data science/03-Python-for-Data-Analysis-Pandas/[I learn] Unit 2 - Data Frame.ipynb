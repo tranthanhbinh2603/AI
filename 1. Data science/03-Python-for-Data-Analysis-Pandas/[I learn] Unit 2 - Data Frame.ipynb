{
 "cells": [
  {
   "cell_type": "code",
   "execution_count": 2,
   "metadata": {},
   "outputs": [],
   "source": [
    "import numpy as np\n",
    "import pandas as pd\n",
    "from IPython.core.interactiveshell import InteractiveShell\n",
    "InteractiveShell.ast_node_interactivity = \"all\""
   ]
  },
  {
   "cell_type": "markdown",
   "metadata": {},
   "source": [
    "# 1. Cách tạo ra data frame"
   ]
  },
  {
   "cell_type": "code",
   "execution_count": 3,
   "metadata": {},
   "outputs": [
    {
     "data": {
      "text/html": [
       "<div>\n",
       "<style scoped>\n",
       "    .dataframe tbody tr th:only-of-type {\n",
       "        vertical-align: middle;\n",
       "    }\n",
       "\n",
       "    .dataframe tbody tr th {\n",
       "        vertical-align: top;\n",
       "    }\n",
       "\n",
       "    .dataframe thead th {\n",
       "        text-align: right;\n",
       "    }\n",
       "</style>\n",
       "<table border=\"1\" class=\"dataframe\">\n",
       "  <thead>\n",
       "    <tr style=\"text-align: right;\">\n",
       "      <th></th>\n",
       "      <th>A</th>\n",
       "      <th>B</th>\n",
       "      <th>C</th>\n",
       "      <th>D</th>\n",
       "      <th>E</th>\n",
       "    </tr>\n",
       "  </thead>\n",
       "  <tbody>\n",
       "    <tr>\n",
       "      <th>X</th>\n",
       "      <td>29.951515</td>\n",
       "      <td>21.199268</td>\n",
       "      <td>21.465605</td>\n",
       "      <td>10.199094</td>\n",
       "      <td>14.821767</td>\n",
       "    </tr>\n",
       "    <tr>\n",
       "      <th>Y</th>\n",
       "      <td>23.770316</td>\n",
       "      <td>26.336816</td>\n",
       "      <td>24.407821</td>\n",
       "      <td>12.936323</td>\n",
       "      <td>16.957254</td>\n",
       "    </tr>\n",
       "    <tr>\n",
       "      <th>Z</th>\n",
       "      <td>17.449501</td>\n",
       "      <td>20.867235</td>\n",
       "      <td>16.206519</td>\n",
       "      <td>28.282915</td>\n",
       "      <td>16.769797</td>\n",
       "    </tr>\n",
       "    <tr>\n",
       "      <th>K</th>\n",
       "      <td>22.972260</td>\n",
       "      <td>16.672776</td>\n",
       "      <td>27.953682</td>\n",
       "      <td>27.522114</td>\n",
       "      <td>29.246581</td>\n",
       "    </tr>\n",
       "  </tbody>\n",
       "</table>\n",
       "</div>"
      ],
      "text/plain": [
       "           A          B          C          D          E\n",
       "X  29.951515  21.199268  21.465605  10.199094  14.821767\n",
       "Y  23.770316  26.336816  24.407821  12.936323  16.957254\n",
       "Z  17.449501  20.867235  16.206519  28.282915  16.769797\n",
       "K  22.972260  16.672776  27.953682  27.522114  29.246581"
      ]
     },
     "execution_count": 3,
     "metadata": {},
     "output_type": "execute_result"
    }
   ],
   "source": [
    "data = np.random.rand(4, 5) * 20 + 10 # 4 dòng 5 cột\n",
    "row_index = ['A', 'B', 'C', 'D', 'E']\n",
    "column_index = ['X', 'Y', 'Z', 'K']\n",
    "data_frame = pd.DataFrame(data, column_index, row_index)\n",
    "data_frame"
   ]
  },
  {
   "cell_type": "markdown",
   "metadata": {},
   "source": [
    "# 2. Lấy 1 cột, 1 hàng"
   ]
  },
  {
   "cell_type": "code",
   "execution_count": 4,
   "metadata": {},
   "outputs": [
    {
     "data": {
      "text/plain": [
       "X    29.951515\n",
       "Y    23.770316\n",
       "Z    17.449501\n",
       "K    22.972260\n",
       "Name: A, dtype: float64"
      ]
     },
     "execution_count": 4,
     "metadata": {},
     "output_type": "execute_result"
    }
   ],
   "source": [
    "data_frame['A']"
   ]
  },
  {
   "cell_type": "code",
   "execution_count": 5,
   "metadata": {},
   "outputs": [
    {
     "data": {
      "text/plain": [
       "A    17.449501\n",
       "B    20.867235\n",
       "C    16.206519\n",
       "D    28.282915\n",
       "E    16.769797\n",
       "Name: Z, dtype: float64"
      ]
     },
     "execution_count": 5,
     "metadata": {},
     "output_type": "execute_result"
    },
    {
     "data": {
      "text/plain": [
       "A    17.449501\n",
       "B    20.867235\n",
       "C    16.206519\n",
       "D    28.282915\n",
       "E    16.769797\n",
       "Name: Z, dtype: float64"
      ]
     },
     "execution_count": 5,
     "metadata": {},
     "output_type": "execute_result"
    }
   ],
   "source": [
    "data_frame.loc['Z']\n",
    "data_frame.iloc[2]"
   ]
  },
  {
   "cell_type": "markdown",
   "metadata": {},
   "source": [
    "# 3. Lấy nhiều cột, nhiều hàng liên tục"
   ]
  },
  {
   "cell_type": "code",
   "execution_count": 6,
   "metadata": {},
   "outputs": [
    {
     "data": {
      "text/html": [
       "<div>\n",
       "<style scoped>\n",
       "    .dataframe tbody tr th:only-of-type {\n",
       "        vertical-align: middle;\n",
       "    }\n",
       "\n",
       "    .dataframe tbody tr th {\n",
       "        vertical-align: top;\n",
       "    }\n",
       "\n",
       "    .dataframe thead th {\n",
       "        text-align: right;\n",
       "    }\n",
       "</style>\n",
       "<table border=\"1\" class=\"dataframe\">\n",
       "  <thead>\n",
       "    <tr style=\"text-align: right;\">\n",
       "      <th></th>\n",
       "      <th>A</th>\n",
       "      <th>B</th>\n",
       "    </tr>\n",
       "  </thead>\n",
       "  <tbody>\n",
       "    <tr>\n",
       "      <th>X</th>\n",
       "      <td>29.951515</td>\n",
       "      <td>21.199268</td>\n",
       "    </tr>\n",
       "    <tr>\n",
       "      <th>Y</th>\n",
       "      <td>23.770316</td>\n",
       "      <td>26.336816</td>\n",
       "    </tr>\n",
       "    <tr>\n",
       "      <th>Z</th>\n",
       "      <td>17.449501</td>\n",
       "      <td>20.867235</td>\n",
       "    </tr>\n",
       "    <tr>\n",
       "      <th>K</th>\n",
       "      <td>22.972260</td>\n",
       "      <td>16.672776</td>\n",
       "    </tr>\n",
       "  </tbody>\n",
       "</table>\n",
       "</div>"
      ],
      "text/plain": [
       "           A          B\n",
       "X  29.951515  21.199268\n",
       "Y  23.770316  26.336816\n",
       "Z  17.449501  20.867235\n",
       "K  22.972260  16.672776"
      ]
     },
     "execution_count": 6,
     "metadata": {},
     "output_type": "execute_result"
    }
   ],
   "source": [
    "data_frame[['A', 'B']]"
   ]
  },
  {
   "cell_type": "code",
   "execution_count": 7,
   "metadata": {},
   "outputs": [
    {
     "data": {
      "text/html": [
       "<div>\n",
       "<style scoped>\n",
       "    .dataframe tbody tr th:only-of-type {\n",
       "        vertical-align: middle;\n",
       "    }\n",
       "\n",
       "    .dataframe tbody tr th {\n",
       "        vertical-align: top;\n",
       "    }\n",
       "\n",
       "    .dataframe thead th {\n",
       "        text-align: right;\n",
       "    }\n",
       "</style>\n",
       "<table border=\"1\" class=\"dataframe\">\n",
       "  <thead>\n",
       "    <tr style=\"text-align: right;\">\n",
       "      <th></th>\n",
       "      <th>A</th>\n",
       "      <th>B</th>\n",
       "      <th>C</th>\n",
       "      <th>D</th>\n",
       "      <th>E</th>\n",
       "    </tr>\n",
       "  </thead>\n",
       "  <tbody>\n",
       "    <tr>\n",
       "      <th>X</th>\n",
       "      <td>29.951515</td>\n",
       "      <td>21.199268</td>\n",
       "      <td>21.465605</td>\n",
       "      <td>10.199094</td>\n",
       "      <td>14.821767</td>\n",
       "    </tr>\n",
       "    <tr>\n",
       "      <th>Z</th>\n",
       "      <td>17.449501</td>\n",
       "      <td>20.867235</td>\n",
       "      <td>16.206519</td>\n",
       "      <td>28.282915</td>\n",
       "      <td>16.769797</td>\n",
       "    </tr>\n",
       "  </tbody>\n",
       "</table>\n",
       "</div>"
      ],
      "text/plain": [
       "           A          B          C          D          E\n",
       "X  29.951515  21.199268  21.465605  10.199094  14.821767\n",
       "Z  17.449501  20.867235  16.206519  28.282915  16.769797"
      ]
     },
     "execution_count": 7,
     "metadata": {},
     "output_type": "execute_result"
    }
   ],
   "source": [
    "data_frame.loc[['X', 'Z']]"
   ]
  },
  {
   "cell_type": "markdown",
   "metadata": {},
   "source": [
    "# 4. Lấy 1 khối hàng, cột"
   ]
  },
  {
   "cell_type": "code",
   "execution_count": 8,
   "metadata": {},
   "outputs": [
    {
     "data": {
      "text/html": [
       "<div>\n",
       "<style scoped>\n",
       "    .dataframe tbody tr th:only-of-type {\n",
       "        vertical-align: middle;\n",
       "    }\n",
       "\n",
       "    .dataframe tbody tr th {\n",
       "        vertical-align: top;\n",
       "    }\n",
       "\n",
       "    .dataframe thead th {\n",
       "        text-align: right;\n",
       "    }\n",
       "</style>\n",
       "<table border=\"1\" class=\"dataframe\">\n",
       "  <thead>\n",
       "    <tr style=\"text-align: right;\">\n",
       "      <th></th>\n",
       "      <th>C</th>\n",
       "      <th>D</th>\n",
       "    </tr>\n",
       "  </thead>\n",
       "  <tbody>\n",
       "    <tr>\n",
       "      <th>Y</th>\n",
       "      <td>24.407821</td>\n",
       "      <td>12.936323</td>\n",
       "    </tr>\n",
       "    <tr>\n",
       "      <th>Z</th>\n",
       "      <td>16.206519</td>\n",
       "      <td>28.282915</td>\n",
       "    </tr>\n",
       "  </tbody>\n",
       "</table>\n",
       "</div>"
      ],
      "text/plain": [
       "           C          D\n",
       "Y  24.407821  12.936323\n",
       "Z  16.206519  28.282915"
      ]
     },
     "execution_count": 8,
     "metadata": {},
     "output_type": "execute_result"
    }
   ],
   "source": [
    "data_frame.loc[['Y', 'Z'], ['C', 'D']]"
   ]
  },
  {
   "cell_type": "markdown",
   "metadata": {},
   "source": [
    "# 5. Tạo cột mới"
   ]
  },
  {
   "cell_type": "code",
   "execution_count": 9,
   "metadata": {},
   "outputs": [
    {
     "data": {
      "text/html": [
       "<div>\n",
       "<style scoped>\n",
       "    .dataframe tbody tr th:only-of-type {\n",
       "        vertical-align: middle;\n",
       "    }\n",
       "\n",
       "    .dataframe tbody tr th {\n",
       "        vertical-align: top;\n",
       "    }\n",
       "\n",
       "    .dataframe thead th {\n",
       "        text-align: right;\n",
       "    }\n",
       "</style>\n",
       "<table border=\"1\" class=\"dataframe\">\n",
       "  <thead>\n",
       "    <tr style=\"text-align: right;\">\n",
       "      <th></th>\n",
       "      <th>A</th>\n",
       "      <th>B</th>\n",
       "      <th>C</th>\n",
       "      <th>D</th>\n",
       "      <th>E</th>\n",
       "      <th>Sum</th>\n",
       "    </tr>\n",
       "  </thead>\n",
       "  <tbody>\n",
       "    <tr>\n",
       "      <th>X</th>\n",
       "      <td>29.951515</td>\n",
       "      <td>21.199268</td>\n",
       "      <td>21.465605</td>\n",
       "      <td>10.199094</td>\n",
       "      <td>14.821767</td>\n",
       "      <td>51.150782</td>\n",
       "    </tr>\n",
       "    <tr>\n",
       "      <th>Y</th>\n",
       "      <td>23.770316</td>\n",
       "      <td>26.336816</td>\n",
       "      <td>24.407821</td>\n",
       "      <td>12.936323</td>\n",
       "      <td>16.957254</td>\n",
       "      <td>50.107132</td>\n",
       "    </tr>\n",
       "    <tr>\n",
       "      <th>Z</th>\n",
       "      <td>17.449501</td>\n",
       "      <td>20.867235</td>\n",
       "      <td>16.206519</td>\n",
       "      <td>28.282915</td>\n",
       "      <td>16.769797</td>\n",
       "      <td>38.316736</td>\n",
       "    </tr>\n",
       "    <tr>\n",
       "      <th>K</th>\n",
       "      <td>22.972260</td>\n",
       "      <td>16.672776</td>\n",
       "      <td>27.953682</td>\n",
       "      <td>27.522114</td>\n",
       "      <td>29.246581</td>\n",
       "      <td>39.645036</td>\n",
       "    </tr>\n",
       "  </tbody>\n",
       "</table>\n",
       "</div>"
      ],
      "text/plain": [
       "           A          B          C          D          E        Sum\n",
       "X  29.951515  21.199268  21.465605  10.199094  14.821767  51.150782\n",
       "Y  23.770316  26.336816  24.407821  12.936323  16.957254  50.107132\n",
       "Z  17.449501  20.867235  16.206519  28.282915  16.769797  38.316736\n",
       "K  22.972260  16.672776  27.953682  27.522114  29.246581  39.645036"
      ]
     },
     "execution_count": 9,
     "metadata": {},
     "output_type": "execute_result"
    }
   ],
   "source": [
    "data_frame['Sum'] = data_frame['A'] + data_frame['B']\n",
    "data_frame"
   ]
  },
  {
   "cell_type": "markdown",
   "metadata": {},
   "source": [
    "# 6. Xoá cột/hàng"
   ]
  },
  {
   "cell_type": "code",
   "execution_count": 10,
   "metadata": {},
   "outputs": [
    {
     "data": {
      "text/html": [
       "<div>\n",
       "<style scoped>\n",
       "    .dataframe tbody tr th:only-of-type {\n",
       "        vertical-align: middle;\n",
       "    }\n",
       "\n",
       "    .dataframe tbody tr th {\n",
       "        vertical-align: top;\n",
       "    }\n",
       "\n",
       "    .dataframe thead th {\n",
       "        text-align: right;\n",
       "    }\n",
       "</style>\n",
       "<table border=\"1\" class=\"dataframe\">\n",
       "  <thead>\n",
       "    <tr style=\"text-align: right;\">\n",
       "      <th></th>\n",
       "      <th>A</th>\n",
       "      <th>B</th>\n",
       "      <th>C</th>\n",
       "      <th>D</th>\n",
       "      <th>E</th>\n",
       "    </tr>\n",
       "  </thead>\n",
       "  <tbody>\n",
       "    <tr>\n",
       "      <th>X</th>\n",
       "      <td>29.951515</td>\n",
       "      <td>21.199268</td>\n",
       "      <td>21.465605</td>\n",
       "      <td>10.199094</td>\n",
       "      <td>14.821767</td>\n",
       "    </tr>\n",
       "    <tr>\n",
       "      <th>Y</th>\n",
       "      <td>23.770316</td>\n",
       "      <td>26.336816</td>\n",
       "      <td>24.407821</td>\n",
       "      <td>12.936323</td>\n",
       "      <td>16.957254</td>\n",
       "    </tr>\n",
       "    <tr>\n",
       "      <th>Z</th>\n",
       "      <td>17.449501</td>\n",
       "      <td>20.867235</td>\n",
       "      <td>16.206519</td>\n",
       "      <td>28.282915</td>\n",
       "      <td>16.769797</td>\n",
       "    </tr>\n",
       "    <tr>\n",
       "      <th>K</th>\n",
       "      <td>22.972260</td>\n",
       "      <td>16.672776</td>\n",
       "      <td>27.953682</td>\n",
       "      <td>27.522114</td>\n",
       "      <td>29.246581</td>\n",
       "    </tr>\n",
       "  </tbody>\n",
       "</table>\n",
       "</div>"
      ],
      "text/plain": [
       "           A          B          C          D          E\n",
       "X  29.951515  21.199268  21.465605  10.199094  14.821767\n",
       "Y  23.770316  26.336816  24.407821  12.936323  16.957254\n",
       "Z  17.449501  20.867235  16.206519  28.282915  16.769797\n",
       "K  22.972260  16.672776  27.953682  27.522114  29.246581"
      ]
     },
     "execution_count": 10,
     "metadata": {},
     "output_type": "execute_result"
    }
   ],
   "source": [
    "data_frame.drop('Sum', axis=1, inplace=True)\n",
    "# axis: 1 là cột, 0 là hàng\n",
    "# inplace: True là xoá luôn, False là xoá tạm thời\n",
    "data_frame"
   ]
  },
  {
   "cell_type": "markdown",
   "metadata": {},
   "source": [
    "# 7. Điều kiện\n",
    "## a. 1 điều kiện"
   ]
  },
  {
   "cell_type": "code",
   "execution_count": 11,
   "metadata": {},
   "outputs": [
    {
     "data": {
      "text/html": [
       "<div>\n",
       "<style scoped>\n",
       "    .dataframe tbody tr th:only-of-type {\n",
       "        vertical-align: middle;\n",
       "    }\n",
       "\n",
       "    .dataframe tbody tr th {\n",
       "        vertical-align: top;\n",
       "    }\n",
       "\n",
       "    .dataframe thead th {\n",
       "        text-align: right;\n",
       "    }\n",
       "</style>\n",
       "<table border=\"1\" class=\"dataframe\">\n",
       "  <thead>\n",
       "    <tr style=\"text-align: right;\">\n",
       "      <th></th>\n",
       "      <th>A</th>\n",
       "      <th>B</th>\n",
       "      <th>C</th>\n",
       "      <th>D</th>\n",
       "      <th>E</th>\n",
       "    </tr>\n",
       "  </thead>\n",
       "  <tbody>\n",
       "    <tr>\n",
       "      <th>X</th>\n",
       "      <td>29.951515</td>\n",
       "      <td>21.199268</td>\n",
       "      <td>21.465605</td>\n",
       "      <td>10.199094</td>\n",
       "      <td>14.821767</td>\n",
       "    </tr>\n",
       "    <tr>\n",
       "      <th>Y</th>\n",
       "      <td>23.770316</td>\n",
       "      <td>26.336816</td>\n",
       "      <td>24.407821</td>\n",
       "      <td>12.936323</td>\n",
       "      <td>16.957254</td>\n",
       "    </tr>\n",
       "    <tr>\n",
       "      <th>K</th>\n",
       "      <td>22.972260</td>\n",
       "      <td>16.672776</td>\n",
       "      <td>27.953682</td>\n",
       "      <td>27.522114</td>\n",
       "      <td>29.246581</td>\n",
       "    </tr>\n",
       "  </tbody>\n",
       "</table>\n",
       "</div>"
      ],
      "text/plain": [
       "           A          B          C          D          E\n",
       "X  29.951515  21.199268  21.465605  10.199094  14.821767\n",
       "Y  23.770316  26.336816  24.407821  12.936323  16.957254\n",
       "K  22.972260  16.672776  27.953682  27.522114  29.246581"
      ]
     },
     "execution_count": 11,
     "metadata": {},
     "output_type": "execute_result"
    }
   ],
   "source": [
    "data_frame[data_frame['C'] > 20]"
   ]
  },
  {
   "cell_type": "code",
   "execution_count": 13,
   "metadata": {},
   "outputs": [
    {
     "data": {
      "text/plain": [
       "X    21.465605\n",
       "Y    24.407821\n",
       "K    27.953682\n",
       "Name: C, dtype: float64"
      ]
     },
     "execution_count": 13,
     "metadata": {},
     "output_type": "execute_result"
    }
   ],
   "source": [
    "data_frame[data_frame['C'] > 20]['C']"
   ]
  },
  {
   "cell_type": "code",
   "execution_count": 14,
   "metadata": {},
   "outputs": [
    {
     "data": {
      "text/html": [
       "<div>\n",
       "<style scoped>\n",
       "    .dataframe tbody tr th:only-of-type {\n",
       "        vertical-align: middle;\n",
       "    }\n",
       "\n",
       "    .dataframe tbody tr th {\n",
       "        vertical-align: top;\n",
       "    }\n",
       "\n",
       "    .dataframe thead th {\n",
       "        text-align: right;\n",
       "    }\n",
       "</style>\n",
       "<table border=\"1\" class=\"dataframe\">\n",
       "  <thead>\n",
       "    <tr style=\"text-align: right;\">\n",
       "      <th></th>\n",
       "      <th>C</th>\n",
       "      <th>D</th>\n",
       "    </tr>\n",
       "  </thead>\n",
       "  <tbody>\n",
       "    <tr>\n",
       "      <th>X</th>\n",
       "      <td>21.465605</td>\n",
       "      <td>10.199094</td>\n",
       "    </tr>\n",
       "    <tr>\n",
       "      <th>Y</th>\n",
       "      <td>24.407821</td>\n",
       "      <td>12.936323</td>\n",
       "    </tr>\n",
       "    <tr>\n",
       "      <th>K</th>\n",
       "      <td>27.953682</td>\n",
       "      <td>27.522114</td>\n",
       "    </tr>\n",
       "  </tbody>\n",
       "</table>\n",
       "</div>"
      ],
      "text/plain": [
       "           C          D\n",
       "X  21.465605  10.199094\n",
       "Y  24.407821  12.936323\n",
       "K  27.953682  27.522114"
      ]
     },
     "execution_count": 14,
     "metadata": {},
     "output_type": "execute_result"
    }
   ],
   "source": [
    "data_frame[data_frame['C'] > 20][['C', 'D']]"
   ]
  },
  {
   "cell_type": "markdown",
   "metadata": {},
   "source": [
    "## b. 2 điều kiện"
   ]
  },
  {
   "cell_type": "code",
   "execution_count": 15,
   "metadata": {},
   "outputs": [
    {
     "data": {
      "text/html": [
       "<div>\n",
       "<style scoped>\n",
       "    .dataframe tbody tr th:only-of-type {\n",
       "        vertical-align: middle;\n",
       "    }\n",
       "\n",
       "    .dataframe tbody tr th {\n",
       "        vertical-align: top;\n",
       "    }\n",
       "\n",
       "    .dataframe thead th {\n",
       "        text-align: right;\n",
       "    }\n",
       "</style>\n",
       "<table border=\"1\" class=\"dataframe\">\n",
       "  <thead>\n",
       "    <tr style=\"text-align: right;\">\n",
       "      <th></th>\n",
       "      <th>A</th>\n",
       "      <th>B</th>\n",
       "      <th>C</th>\n",
       "      <th>D</th>\n",
       "      <th>E</th>\n",
       "    </tr>\n",
       "  </thead>\n",
       "  <tbody>\n",
       "    <tr>\n",
       "      <th>K</th>\n",
       "      <td>22.97226</td>\n",
       "      <td>16.672776</td>\n",
       "      <td>27.953682</td>\n",
       "      <td>27.522114</td>\n",
       "      <td>29.246581</td>\n",
       "    </tr>\n",
       "  </tbody>\n",
       "</table>\n",
       "</div>"
      ],
      "text/plain": [
       "          A          B          C          D          E\n",
       "K  22.97226  16.672776  27.953682  27.522114  29.246581"
      ]
     },
     "execution_count": 15,
     "metadata": {},
     "output_type": "execute_result"
    }
   ],
   "source": [
    "data_frame[(data_frame['C'] > 20) & (data_frame['D'] > 15)]"
   ]
  },
  {
   "cell_type": "code",
   "execution_count": 16,
   "metadata": {},
   "outputs": [
    {
     "data": {
      "text/html": [
       "<div>\n",
       "<style scoped>\n",
       "    .dataframe tbody tr th:only-of-type {\n",
       "        vertical-align: middle;\n",
       "    }\n",
       "\n",
       "    .dataframe tbody tr th {\n",
       "        vertical-align: top;\n",
       "    }\n",
       "\n",
       "    .dataframe thead th {\n",
       "        text-align: right;\n",
       "    }\n",
       "</style>\n",
       "<table border=\"1\" class=\"dataframe\">\n",
       "  <thead>\n",
       "    <tr style=\"text-align: right;\">\n",
       "      <th></th>\n",
       "      <th>C</th>\n",
       "      <th>D</th>\n",
       "    </tr>\n",
       "  </thead>\n",
       "  <tbody>\n",
       "    <tr>\n",
       "      <th>K</th>\n",
       "      <td>27.953682</td>\n",
       "      <td>27.522114</td>\n",
       "    </tr>\n",
       "  </tbody>\n",
       "</table>\n",
       "</div>"
      ],
      "text/plain": [
       "           C          D\n",
       "K  27.953682  27.522114"
      ]
     },
     "execution_count": 16,
     "metadata": {},
     "output_type": "execute_result"
    }
   ],
   "source": [
    "data_frame[(data_frame['C'] > 20) & (data_frame['D'] > 15)][['C', 'D']]"
   ]
  },
  {
   "cell_type": "markdown",
   "metadata": {},
   "source": [
    "# 8. Reset index (row) name"
   ]
  },
  {
   "cell_type": "code",
   "execution_count": 17,
   "metadata": {},
   "outputs": [
    {
     "data": {
      "text/html": [
       "<div>\n",
       "<style scoped>\n",
       "    .dataframe tbody tr th:only-of-type {\n",
       "        vertical-align: middle;\n",
       "    }\n",
       "\n",
       "    .dataframe tbody tr th {\n",
       "        vertical-align: top;\n",
       "    }\n",
       "\n",
       "    .dataframe thead th {\n",
       "        text-align: right;\n",
       "    }\n",
       "</style>\n",
       "<table border=\"1\" class=\"dataframe\">\n",
       "  <thead>\n",
       "    <tr style=\"text-align: right;\">\n",
       "      <th></th>\n",
       "      <th>index</th>\n",
       "      <th>A</th>\n",
       "      <th>B</th>\n",
       "      <th>C</th>\n",
       "      <th>D</th>\n",
       "      <th>E</th>\n",
       "    </tr>\n",
       "  </thead>\n",
       "  <tbody>\n",
       "    <tr>\n",
       "      <th>0</th>\n",
       "      <td>X</td>\n",
       "      <td>29.951515</td>\n",
       "      <td>21.199268</td>\n",
       "      <td>21.465605</td>\n",
       "      <td>10.199094</td>\n",
       "      <td>14.821767</td>\n",
       "    </tr>\n",
       "    <tr>\n",
       "      <th>1</th>\n",
       "      <td>Y</td>\n",
       "      <td>23.770316</td>\n",
       "      <td>26.336816</td>\n",
       "      <td>24.407821</td>\n",
       "      <td>12.936323</td>\n",
       "      <td>16.957254</td>\n",
       "    </tr>\n",
       "    <tr>\n",
       "      <th>2</th>\n",
       "      <td>Z</td>\n",
       "      <td>17.449501</td>\n",
       "      <td>20.867235</td>\n",
       "      <td>16.206519</td>\n",
       "      <td>28.282915</td>\n",
       "      <td>16.769797</td>\n",
       "    </tr>\n",
       "    <tr>\n",
       "      <th>3</th>\n",
       "      <td>K</td>\n",
       "      <td>22.972260</td>\n",
       "      <td>16.672776</td>\n",
       "      <td>27.953682</td>\n",
       "      <td>27.522114</td>\n",
       "      <td>29.246581</td>\n",
       "    </tr>\n",
       "  </tbody>\n",
       "</table>\n",
       "</div>"
      ],
      "text/plain": [
       "  index          A          B          C          D          E\n",
       "0     X  29.951515  21.199268  21.465605  10.199094  14.821767\n",
       "1     Y  23.770316  26.336816  24.407821  12.936323  16.957254\n",
       "2     Z  17.449501  20.867235  16.206519  28.282915  16.769797\n",
       "3     K  22.972260  16.672776  27.953682  27.522114  29.246581"
      ]
     },
     "execution_count": 17,
     "metadata": {},
     "output_type": "execute_result"
    }
   ],
   "source": [
    "data_frame.reset_index()"
   ]
  },
  {
   "cell_type": "code",
   "execution_count": 20,
   "metadata": {},
   "outputs": [
    {
     "data": {
      "text/html": [
       "<div>\n",
       "<style scoped>\n",
       "    .dataframe tbody tr th:only-of-type {\n",
       "        vertical-align: middle;\n",
       "    }\n",
       "\n",
       "    .dataframe tbody tr th {\n",
       "        vertical-align: top;\n",
       "    }\n",
       "\n",
       "    .dataframe thead th {\n",
       "        text-align: right;\n",
       "    }\n",
       "</style>\n",
       "<table border=\"1\" class=\"dataframe\">\n",
       "  <thead>\n",
       "    <tr style=\"text-align: right;\">\n",
       "      <th></th>\n",
       "      <th>A</th>\n",
       "      <th>B</th>\n",
       "      <th>C</th>\n",
       "      <th>D</th>\n",
       "      <th>E</th>\n",
       "      <th>States</th>\n",
       "    </tr>\n",
       "  </thead>\n",
       "  <tbody>\n",
       "    <tr>\n",
       "      <th>X</th>\n",
       "      <td>29.951515</td>\n",
       "      <td>21.199268</td>\n",
       "      <td>21.465605</td>\n",
       "      <td>10.199094</td>\n",
       "      <td>14.821767</td>\n",
       "      <td>CA</td>\n",
       "    </tr>\n",
       "    <tr>\n",
       "      <th>Y</th>\n",
       "      <td>23.770316</td>\n",
       "      <td>26.336816</td>\n",
       "      <td>24.407821</td>\n",
       "      <td>12.936323</td>\n",
       "      <td>16.957254</td>\n",
       "      <td>NY</td>\n",
       "    </tr>\n",
       "    <tr>\n",
       "      <th>Z</th>\n",
       "      <td>17.449501</td>\n",
       "      <td>20.867235</td>\n",
       "      <td>16.206519</td>\n",
       "      <td>28.282915</td>\n",
       "      <td>16.769797</td>\n",
       "      <td>WY</td>\n",
       "    </tr>\n",
       "    <tr>\n",
       "      <th>K</th>\n",
       "      <td>22.972260</td>\n",
       "      <td>16.672776</td>\n",
       "      <td>27.953682</td>\n",
       "      <td>27.522114</td>\n",
       "      <td>29.246581</td>\n",
       "      <td>OR</td>\n",
       "    </tr>\n",
       "  </tbody>\n",
       "</table>\n",
       "</div>"
      ],
      "text/plain": [
       "           A          B          C          D          E States\n",
       "X  29.951515  21.199268  21.465605  10.199094  14.821767     CA\n",
       "Y  23.770316  26.336816  24.407821  12.936323  16.957254     NY\n",
       "Z  17.449501  20.867235  16.206519  28.282915  16.769797     WY\n",
       "K  22.972260  16.672776  27.953682  27.522114  29.246581     OR"
      ]
     },
     "execution_count": 20,
     "metadata": {},
     "output_type": "execute_result"
    }
   ],
   "source": [
    "data_frame['States'] = ['CA', 'NY', 'WY', 'OR']\n",
    "data_frame"
   ]
  },
  {
   "cell_type": "code",
   "execution_count": 22,
   "metadata": {},
   "outputs": [
    {
     "data": {
      "text/html": [
       "<div>\n",
       "<style scoped>\n",
       "    .dataframe tbody tr th:only-of-type {\n",
       "        vertical-align: middle;\n",
       "    }\n",
       "\n",
       "    .dataframe tbody tr th {\n",
       "        vertical-align: top;\n",
       "    }\n",
       "\n",
       "    .dataframe thead th {\n",
       "        text-align: right;\n",
       "    }\n",
       "</style>\n",
       "<table border=\"1\" class=\"dataframe\">\n",
       "  <thead>\n",
       "    <tr style=\"text-align: right;\">\n",
       "      <th></th>\n",
       "      <th>A</th>\n",
       "      <th>B</th>\n",
       "      <th>C</th>\n",
       "      <th>D</th>\n",
       "      <th>E</th>\n",
       "    </tr>\n",
       "    <tr>\n",
       "      <th>States</th>\n",
       "      <th></th>\n",
       "      <th></th>\n",
       "      <th></th>\n",
       "      <th></th>\n",
       "      <th></th>\n",
       "    </tr>\n",
       "  </thead>\n",
       "  <tbody>\n",
       "    <tr>\n",
       "      <th>CA</th>\n",
       "      <td>29.951515</td>\n",
       "      <td>21.199268</td>\n",
       "      <td>21.465605</td>\n",
       "      <td>10.199094</td>\n",
       "      <td>14.821767</td>\n",
       "    </tr>\n",
       "    <tr>\n",
       "      <th>NY</th>\n",
       "      <td>23.770316</td>\n",
       "      <td>26.336816</td>\n",
       "      <td>24.407821</td>\n",
       "      <td>12.936323</td>\n",
       "      <td>16.957254</td>\n",
       "    </tr>\n",
       "    <tr>\n",
       "      <th>WY</th>\n",
       "      <td>17.449501</td>\n",
       "      <td>20.867235</td>\n",
       "      <td>16.206519</td>\n",
       "      <td>28.282915</td>\n",
       "      <td>16.769797</td>\n",
       "    </tr>\n",
       "    <tr>\n",
       "      <th>OR</th>\n",
       "      <td>22.972260</td>\n",
       "      <td>16.672776</td>\n",
       "      <td>27.953682</td>\n",
       "      <td>27.522114</td>\n",
       "      <td>29.246581</td>\n",
       "    </tr>\n",
       "  </tbody>\n",
       "</table>\n",
       "</div>"
      ],
      "text/plain": [
       "                A          B          C          D          E\n",
       "States                                                       \n",
       "CA      29.951515  21.199268  21.465605  10.199094  14.821767\n",
       "NY      23.770316  26.336816  24.407821  12.936323  16.957254\n",
       "WY      17.449501  20.867235  16.206519  28.282915  16.769797\n",
       "OR      22.972260  16.672776  27.953682  27.522114  29.246581"
      ]
     },
     "execution_count": 22,
     "metadata": {},
     "output_type": "execute_result"
    }
   ],
   "source": [
    "data_frame.set_index('States')"
   ]
  },
  {
   "cell_type": "code",
   "execution_count": 23,
   "metadata": {},
   "outputs": [
    {
     "data": {
      "text/html": [
       "<div>\n",
       "<style scoped>\n",
       "    .dataframe tbody tr th:only-of-type {\n",
       "        vertical-align: middle;\n",
       "    }\n",
       "\n",
       "    .dataframe tbody tr th {\n",
       "        vertical-align: top;\n",
       "    }\n",
       "\n",
       "    .dataframe thead th {\n",
       "        text-align: right;\n",
       "    }\n",
       "</style>\n",
       "<table border=\"1\" class=\"dataframe\">\n",
       "  <thead>\n",
       "    <tr style=\"text-align: right;\">\n",
       "      <th></th>\n",
       "      <th>B</th>\n",
       "      <th>C</th>\n",
       "      <th>D</th>\n",
       "      <th>E</th>\n",
       "      <th>States</th>\n",
       "    </tr>\n",
       "    <tr>\n",
       "      <th>A</th>\n",
       "      <th></th>\n",
       "      <th></th>\n",
       "      <th></th>\n",
       "      <th></th>\n",
       "      <th></th>\n",
       "    </tr>\n",
       "  </thead>\n",
       "  <tbody>\n",
       "    <tr>\n",
       "      <th>29.951515</th>\n",
       "      <td>21.199268</td>\n",
       "      <td>21.465605</td>\n",
       "      <td>10.199094</td>\n",
       "      <td>14.821767</td>\n",
       "      <td>CA</td>\n",
       "    </tr>\n",
       "    <tr>\n",
       "      <th>23.770316</th>\n",
       "      <td>26.336816</td>\n",
       "      <td>24.407821</td>\n",
       "      <td>12.936323</td>\n",
       "      <td>16.957254</td>\n",
       "      <td>NY</td>\n",
       "    </tr>\n",
       "    <tr>\n",
       "      <th>17.449501</th>\n",
       "      <td>20.867235</td>\n",
       "      <td>16.206519</td>\n",
       "      <td>28.282915</td>\n",
       "      <td>16.769797</td>\n",
       "      <td>WY</td>\n",
       "    </tr>\n",
       "    <tr>\n",
       "      <th>22.972260</th>\n",
       "      <td>16.672776</td>\n",
       "      <td>27.953682</td>\n",
       "      <td>27.522114</td>\n",
       "      <td>29.246581</td>\n",
       "      <td>OR</td>\n",
       "    </tr>\n",
       "  </tbody>\n",
       "</table>\n",
       "</div>"
      ],
      "text/plain": [
       "                   B          C          D          E States\n",
       "A                                                           \n",
       "29.951515  21.199268  21.465605  10.199094  14.821767     CA\n",
       "23.770316  26.336816  24.407821  12.936323  16.957254     NY\n",
       "17.449501  20.867235  16.206519  28.282915  16.769797     WY\n",
       "22.972260  16.672776  27.953682  27.522114  29.246581     OR"
      ]
     },
     "execution_count": 23,
     "metadata": {},
     "output_type": "execute_result"
    }
   ],
   "source": [
    "data_frame.set_index('A')"
   ]
  },
  {
   "cell_type": "markdown",
   "metadata": {},
   "source": [
    "# 9. Gom nhóm (Ít gặp)"
   ]
  },
  {
   "cell_type": "code",
   "execution_count": 9,
   "metadata": {},
   "outputs": [
    {
     "data": {
      "text/html": [
       "<div>\n",
       "<style scoped>\n",
       "    .dataframe tbody tr th:only-of-type {\n",
       "        vertical-align: middle;\n",
       "    }\n",
       "\n",
       "    .dataframe tbody tr th {\n",
       "        vertical-align: top;\n",
       "    }\n",
       "\n",
       "    .dataframe thead tr th {\n",
       "        text-align: left;\n",
       "    }\n",
       "</style>\n",
       "<table border=\"1\" class=\"dataframe\">\n",
       "  <thead>\n",
       "    <tr>\n",
       "      <th></th>\n",
       "      <th colspan=\"3\" halign=\"left\">a</th>\n",
       "      <th colspan=\"2\" halign=\"left\">b</th>\n",
       "    </tr>\n",
       "    <tr>\n",
       "      <th></th>\n",
       "      <th>a1</th>\n",
       "      <th>a2</th>\n",
       "      <th>a3</th>\n",
       "      <th>b1</th>\n",
       "      <th>b2</th>\n",
       "    </tr>\n",
       "  </thead>\n",
       "  <tbody>\n",
       "    <tr>\n",
       "      <th>X</th>\n",
       "      <td>25.514376</td>\n",
       "      <td>12.782774</td>\n",
       "      <td>20.939279</td>\n",
       "      <td>19.928530</td>\n",
       "      <td>15.185268</td>\n",
       "    </tr>\n",
       "    <tr>\n",
       "      <th>Y</th>\n",
       "      <td>18.171553</td>\n",
       "      <td>11.688665</td>\n",
       "      <td>29.373273</td>\n",
       "      <td>15.610678</td>\n",
       "      <td>28.753797</td>\n",
       "    </tr>\n",
       "    <tr>\n",
       "      <th>Z</th>\n",
       "      <td>12.787821</td>\n",
       "      <td>18.990250</td>\n",
       "      <td>17.418708</td>\n",
       "      <td>15.733597</td>\n",
       "      <td>26.619834</td>\n",
       "    </tr>\n",
       "    <tr>\n",
       "      <th>K</th>\n",
       "      <td>24.116831</td>\n",
       "      <td>14.935786</td>\n",
       "      <td>11.806609</td>\n",
       "      <td>14.731826</td>\n",
       "      <td>12.564460</td>\n",
       "    </tr>\n",
       "  </tbody>\n",
       "</table>\n",
       "</div>"
      ],
      "text/plain": [
       "           a                                b           \n",
       "          a1         a2         a3         b1         b2\n",
       "X  25.514376  12.782774  20.939279  19.928530  15.185268\n",
       "Y  18.171553  11.688665  29.373273  15.610678  28.753797\n",
       "Z  12.787821  18.990250  17.418708  15.733597  26.619834\n",
       "K  24.116831  14.935786  11.806609  14.731826  12.564460"
      ]
     },
     "execution_count": 9,
     "metadata": {},
     "output_type": "execute_result"
    }
   ],
   "source": [
    "data2 = np.random.rand(4, 5) * 20 + 10 # 4 dòng 5 cột\n",
    "outsideLevel = ['a', 'a', 'a', 'b', 'b'] \n",
    "insideLevel = ['a1', 'a2', 'a3', 'b1', 'b2']\n",
    "row_index = ['X', 'Y', 'Z', 'K']\n",
    "pd.DataFrame(data, row_index , pd.MultiIndex.from_tuples(list(zip(outsideLevel, insideLevel))))\n"
   ]
  },
  {
   "cell_type": "code",
   "execution_count": 10,
   "metadata": {},
   "outputs": [
    {
     "data": {
      "text/html": [
       "<div>\n",
       "<style scoped>\n",
       "    .dataframe tbody tr th:only-of-type {\n",
       "        vertical-align: middle;\n",
       "    }\n",
       "\n",
       "    .dataframe tbody tr th {\n",
       "        vertical-align: top;\n",
       "    }\n",
       "\n",
       "    .dataframe thead th {\n",
       "        text-align: right;\n",
       "    }\n",
       "</style>\n",
       "<table border=\"1\" class=\"dataframe\">\n",
       "  <thead>\n",
       "    <tr style=\"text-align: right;\">\n",
       "      <th></th>\n",
       "      <th>A</th>\n",
       "      <th>B</th>\n",
       "      <th>C</th>\n",
       "      <th>D</th>\n",
       "      <th>E</th>\n",
       "    </tr>\n",
       "  </thead>\n",
       "  <tbody>\n",
       "    <tr>\n",
       "      <th>X</th>\n",
       "      <td>21.173581</td>\n",
       "      <td>21.387391</td>\n",
       "      <td>16.612598</td>\n",
       "      <td>23.203001</td>\n",
       "      <td>11.926406</td>\n",
       "    </tr>\n",
       "    <tr>\n",
       "      <th>Y</th>\n",
       "      <td>24.603994</td>\n",
       "      <td>27.036374</td>\n",
       "      <td>18.814097</td>\n",
       "      <td>12.344445</td>\n",
       "      <td>26.349863</td>\n",
       "    </tr>\n",
       "    <tr>\n",
       "      <th>Z</th>\n",
       "      <td>25.803457</td>\n",
       "      <td>19.124312</td>\n",
       "      <td>22.980389</td>\n",
       "      <td>25.245358</td>\n",
       "      <td>28.039844</td>\n",
       "    </tr>\n",
       "    <tr>\n",
       "      <th>K</th>\n",
       "      <td>24.987342</td>\n",
       "      <td>15.400467</td>\n",
       "      <td>29.215834</td>\n",
       "      <td>11.670054</td>\n",
       "      <td>20.150057</td>\n",
       "    </tr>\n",
       "  </tbody>\n",
       "</table>\n",
       "</div>"
      ],
      "text/plain": [
       "           A          B          C          D          E\n",
       "X  21.173581  21.387391  16.612598  23.203001  11.926406\n",
       "Y  24.603994  27.036374  18.814097  12.344445  26.349863\n",
       "Z  25.803457  19.124312  22.980389  25.245358  28.039844\n",
       "K  24.987342  15.400467  29.215834  11.670054  20.150057"
      ]
     },
     "execution_count": 10,
     "metadata": {},
     "output_type": "execute_result"
    }
   ],
   "source": [
    "data = np.random.rand(4, 5) * 20 + 10 # 4 dòng 5 cột\n",
    "row_index = ['A', 'B', 'C', 'D', 'E']\n",
    "column_index = ['X', 'Y', 'Z', 'K']\n",
    "pd.DataFrame(data, column_index, row_index)"
   ]
  }
 ],
 "metadata": {
  "kernelspec": {
   "display_name": "Python 3",
   "language": "python",
   "name": "python3"
  },
  "language_info": {
   "codemirror_mode": {
    "name": "ipython",
    "version": 3
   },
   "file_extension": ".py",
   "mimetype": "text/x-python",
   "name": "python",
   "nbconvert_exporter": "python",
   "pygments_lexer": "ipython3",
   "version": "3.11.9"
  }
 },
 "nbformat": 4,
 "nbformat_minor": 2
}
