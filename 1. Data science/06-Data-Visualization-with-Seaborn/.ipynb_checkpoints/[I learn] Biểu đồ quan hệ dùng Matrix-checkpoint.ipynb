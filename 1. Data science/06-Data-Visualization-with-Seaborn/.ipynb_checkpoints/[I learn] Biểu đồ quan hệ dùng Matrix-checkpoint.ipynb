{
 "cells": [
  {
   "cell_type": "code",
   "execution_count": null,
   "id": "9f7cdcd5-3187-40fa-abdf-3c536c7d5ddb",
   "metadata": {},
   "outputs": [],
   "source": [
    "import maplotlib as sns\n",
    "%maplotlib inline"
   ]
  },
  {
   "cell_type": "code",
   "execution_count": null,
   "id": "4468a3ae-6872-4779-89d3-cbe647702a03",
   "metadata": {},
   "outputs": [],
   "source": [
    "flights = sns.load_dataset(flights)"
   ]
  }
 ],
 "metadata": {
  "kernelspec": {
   "display_name": "Python 3 (ipykernel)",
   "language": "python",
   "name": "python3"
  },
  "language_info": {
   "codemirror_mode": {
    "name": "ipython",
    "version": 3
   },
   "file_extension": ".py",
   "mimetype": "text/x-python",
   "name": "python",
   "nbconvert_exporter": "python",
   "pygments_lexer": "ipython3",
   "version": "3.12.2"
  }
 },
 "nbformat": 4,
 "nbformat_minor": 5
}
