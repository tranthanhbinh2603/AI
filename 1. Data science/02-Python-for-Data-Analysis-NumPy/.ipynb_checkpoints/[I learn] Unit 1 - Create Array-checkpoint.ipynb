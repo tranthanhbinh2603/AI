{
 "cells": [
  {
   "cell_type": "code",
   "execution_count": 2,
   "id": "679acf67-069f-4c2f-85c7-f5f2914d53b5",
   "metadata": {},
   "outputs": [],
   "source": [
    "import numpy as np"
   ]
  },
  {
   "cell_type": "markdown",
   "id": "6237ed86-2f44-4cd7-a206-9cef07bcee35",
   "metadata": {},
   "source": [
    "## 1. Nhập mảng 1 chiều, 2 chiều vào numpy"
   ]
  },
  {
   "cell_type": "code",
   "execution_count": 3,
   "id": "b587fec7-8304-4fb5-9843-b767a28b13c6",
   "metadata": {},
   "outputs": [],
   "source": [
    "list_1_dimensional = [1,2,3,4]"
   ]
  },
  {
   "cell_type": "code",
   "execution_count": 4,
   "id": "f4e893b8-f873-4fb8-84d4-036a58144a59",
   "metadata": {},
   "outputs": [
    {
     "data": {
      "text/plain": [
       "array([1, 2, 3, 4])"
      ]
     },
     "execution_count": 4,
     "metadata": {},
     "output_type": "execute_result"
    }
   ],
   "source": [
    "np.array(list_1_dimensional)"
   ]
  },
  {
   "cell_type": "code",
   "execution_count": 5,
   "id": "4685fb66-00c8-47f3-b18a-859ec4b142e7",
   "metadata": {},
   "outputs": [],
   "source": [
    "list_2_dimensional = [[1,2,3],[4,5,6]]"
   ]
  },
  {
   "cell_type": "code",
   "execution_count": 6,
   "id": "2cafd0cc-2e79-45a6-9fa9-995e28a670bd",
   "metadata": {},
   "outputs": [
    {
     "data": {
      "text/plain": [
       "array([[1, 2, 3],\n",
       "       [4, 5, 6]])"
      ]
     },
     "execution_count": 6,
     "metadata": {},
     "output_type": "execute_result"
    }
   ],
   "source": [
    "np.array(list_2_dimensional)"
   ]
  },
  {
   "cell_type": "markdown",
   "id": "babf9f32-3ff8-478a-9eb8-a311c4051d16",
   "metadata": {},
   "source": [
    "## 2. Tự động tạo mảng"
   ]
  },
  {
   "cell_type": "markdown",
   "id": "b777aeaf-3e8d-43f0-8b1c-6d58db837054",
   "metadata": {},
   "source": [
    "### Tự động tạo mảng theo số thứ tự"
   ]
  },
  {
   "cell_type": "code",
   "execution_count": 7,
   "id": "0d468ece-9330-45b0-b7b0-6b00dffe7e9c",
   "metadata": {},
   "outputs": [
    {
     "data": {
      "text/plain": [
       "array([0, 1, 2, 3, 4, 5, 6, 7, 8, 9])"
      ]
     },
     "execution_count": 7,
     "metadata": {},
     "output_type": "execute_result"
    }
   ],
   "source": [
    "np.arange(0, 10) #0 to n-1"
   ]
  },
  {
   "cell_type": "code",
   "execution_count": 8,
   "id": "cd606e3e-96ad-4f32-927f-630ec955d910",
   "metadata": {},
   "outputs": [
    {
     "data": {
      "text/plain": [
       "array([0, 2, 4, 6, 8])"
      ]
     },
     "execution_count": 8,
     "metadata": {},
     "output_type": "execute_result"
    }
   ],
   "source": [
    "np.arange(0, 10, 2)"
   ]
  },
  {
   "cell_type": "code",
   "execution_count": 12,
   "id": "00aa8d52-de13-492e-9feb-e5b27623fca3",
   "metadata": {},
   "outputs": [
    {
     "data": {
      "text/plain": [
       "array([[0, 1, 2, 3, 4, 5, 6, 7, 8, 9],\n",
       "       [0, 1, 2, 3, 4, 5, 6, 7, 8, 9]])"
      ]
     },
     "execution_count": 12,
     "metadata": {},
     "output_type": "execute_result"
    }
   ],
   "source": [
    "np.array((np.arange(0, 10), np.arange(0, 10)))"
   ]
  },
  {
   "cell_type": "markdown",
   "id": "9328e2c7-dcfc-4dc5-a747-6cbc21ec2cfa",
   "metadata": {},
   "source": [
    "### Tự động tạo mảng 0, 1"
   ]
  },
  {
   "cell_type": "code",
   "execution_count": 14,
   "id": "293256a0-6bcc-4692-947f-38f02f5aeefa",
   "metadata": {},
   "outputs": [
    {
     "data": {
      "text/plain": [
       "array([0., 0., 0., 0., 0., 0., 0., 0., 0., 0.])"
      ]
     },
     "execution_count": 14,
     "metadata": {},
     "output_type": "execute_result"
    }
   ],
   "source": [
    "np.zeros(10)"
   ]
  },
  {
   "cell_type": "code",
   "execution_count": 15,
   "id": "6449b129-84e4-4be3-9b08-66e45a948ec4",
   "metadata": {},
   "outputs": [
    {
     "data": {
      "text/plain": [
       "array([1., 1., 1., 1., 1., 1., 1., 1., 1., 1.])"
      ]
     },
     "execution_count": 15,
     "metadata": {},
     "output_type": "execute_result"
    }
   ],
   "source": [
    "np.ones(10)"
   ]
  },
  {
   "cell_type": "code",
   "execution_count": 17,
   "id": "06572578-e311-46c8-a9df-ce2cd197b773",
   "metadata": {},
   "outputs": [
    {
     "data": {
      "text/plain": [
       "array([[0., 0., 0., 0., 0., 0., 0., 0., 0., 0.],\n",
       "       [0., 0., 0., 0., 0., 0., 0., 0., 0., 0.],\n",
       "       [0., 0., 0., 0., 0., 0., 0., 0., 0., 0.],\n",
       "       [0., 0., 0., 0., 0., 0., 0., 0., 0., 0.],\n",
       "       [0., 0., 0., 0., 0., 0., 0., 0., 0., 0.],\n",
       "       [0., 0., 0., 0., 0., 0., 0., 0., 0., 0.],\n",
       "       [0., 0., 0., 0., 0., 0., 0., 0., 0., 0.],\n",
       "       [0., 0., 0., 0., 0., 0., 0., 0., 0., 0.],\n",
       "       [0., 0., 0., 0., 0., 0., 0., 0., 0., 0.],\n",
       "       [0., 0., 0., 0., 0., 0., 0., 0., 0., 0.]])"
      ]
     },
     "execution_count": 17,
     "metadata": {},
     "output_type": "execute_result"
    }
   ],
   "source": [
    "np.zeros((10, 10))"
   ]
  },
  {
   "cell_type": "code",
   "execution_count": 18,
   "id": "56780001-0fda-4ce0-9055-263ecea9d28d",
   "metadata": {},
   "outputs": [
    {
     "data": {
      "text/plain": [
       "array([[1., 1., 1., 1., 1.],\n",
       "       [1., 1., 1., 1., 1.],\n",
       "       [1., 1., 1., 1., 1.],\n",
       "       [1., 1., 1., 1., 1.],\n",
       "       [1., 1., 1., 1., 1.]])"
      ]
     },
     "execution_count": 18,
     "metadata": {},
     "output_type": "execute_result"
    }
   ],
   "source": [
    "np.ones((5,5))"
   ]
  },
  {
   "cell_type": "markdown",
   "id": "25a0a438-ef00-4c13-820e-a1777685bd1b",
   "metadata": {},
   "source": [
    "### Tự động tạo mảng cách đều trong khoảng từ a->b\n",
    "Ví dụ là từ 0 đến 5 có 6 phần tử thì sẽ có mảng là [0,1,2,3,4,5]"
   ]
  },
  {
   "cell_type": "code",
   "execution_count": 19,
   "id": "b1c56b29-0052-4ba1-b3f5-eb9df5f48436",
   "metadata": {},
   "outputs": [
    {
     "data": {
      "text/plain": [
       "array([0., 1., 2., 3., 4., 5.])"
      ]
     },
     "execution_count": 19,
     "metadata": {},
     "output_type": "execute_result"
    }
   ],
   "source": [
    "np.linspace(0, 5, 6)"
   ]
  },
  {
   "cell_type": "code",
   "execution_count": 20,
   "id": "6270493f-cfe6-4a4b-8bc2-8958a7cb7ed6",
   "metadata": {},
   "outputs": [
    {
     "data": {
      "text/plain": [
       "array([0.        , 0.83333333, 1.66666667, 2.5       , 3.33333333,\n",
       "       4.16666667, 5.        ])"
      ]
     },
     "execution_count": 20,
     "metadata": {},
     "output_type": "execute_result"
    }
   ],
   "source": [
    "np.linspace(0, 5, 7)"
   ]
  },
  {
   "cell_type": "markdown",
   "id": "73c639d1-4e0c-4639-9449-1b5b42061926",
   "metadata": {},
   "source": [
    "### Tạo ra ma trận định thức"
   ]
  },
  {
   "cell_type": "code",
   "execution_count": 22,
   "id": "d0a2d0c7-5263-4291-b66a-fd07765c1fc4",
   "metadata": {},
   "outputs": [
    {
     "data": {
      "text/plain": [
       "array([[1., 0., 0., 0., 0., 0., 0., 0., 0., 0.],\n",
       "       [0., 1., 0., 0., 0., 0., 0., 0., 0., 0.],\n",
       "       [0., 0., 1., 0., 0., 0., 0., 0., 0., 0.],\n",
       "       [0., 0., 0., 1., 0., 0., 0., 0., 0., 0.],\n",
       "       [0., 0., 0., 0., 1., 0., 0., 0., 0., 0.],\n",
       "       [0., 0., 0., 0., 0., 1., 0., 0., 0., 0.],\n",
       "       [0., 0., 0., 0., 0., 0., 1., 0., 0., 0.],\n",
       "       [0., 0., 0., 0., 0., 0., 0., 1., 0., 0.],\n",
       "       [0., 0., 0., 0., 0., 0., 0., 0., 1., 0.],\n",
       "       [0., 0., 0., 0., 0., 0., 0., 0., 0., 1.]])"
      ]
     },
     "execution_count": 22,
     "metadata": {},
     "output_type": "execute_result"
    }
   ],
   "source": [
    "np.eye(10)"
   ]
  },
  {
   "cell_type": "markdown",
   "id": "bca74451-46a6-4341-89bd-c2b058863594",
   "metadata": {},
   "source": [
    "### Tạo ra ma trận ngẫu nhiên\n",
    "Tạo ra ma trận từ 0 đến 1"
   ]
  },
  {
   "cell_type": "code",
   "execution_count": 24,
   "id": "38c2a5f7-0e36-41f1-81b0-895909c6f4ad",
   "metadata": {},
   "outputs": [
    {
     "data": {
      "text/plain": [
       "array([0.43202043, 0.21683416, 0.43771661, 0.59535851, 0.83142387,\n",
       "       0.78996397, 0.93363654, 0.27806371, 0.98757492, 0.91505979])"
      ]
     },
     "execution_count": 24,
     "metadata": {},
     "output_type": "execute_result"
    }
   ],
   "source": [
    "np.random.rand(10)"
   ]
  },
  {
   "cell_type": "code",
   "execution_count": 29,
   "id": "9b7d66d4-2838-4321-adab-4d97890ab903",
   "metadata": {},
   "outputs": [
    {
     "data": {
      "text/plain": [
       "array([[0.55129602, 0.64352968, 0.29697446],\n",
       "       [0.92042771, 0.82306782, 0.85504358],\n",
       "       [0.81813314, 0.1502765 , 0.5425486 ]])"
      ]
     },
     "execution_count": 29,
     "metadata": {},
     "output_type": "execute_result"
    }
   ],
   "source": [
    "np.random.rand(3, 3)"
   ]
  },
  {
   "cell_type": "markdown",
   "id": "fd347fca-b88b-4cd3-b258-c87b24efc951",
   "metadata": {},
   "source": [
    "Tạo ra ma trận ngẫu nhiên dạng phân phối chuẩn có mean là 0 và stdev là -1"
   ]
  },
  {
   "cell_type": "code",
   "execution_count": 31,
   "id": "acdcb1e7-5692-4e7b-aa96-4a88ba62bde6",
   "metadata": {},
   "outputs": [
    {
     "data": {
      "text/plain": [
       "array([ 0.61138262, -0.55997631, -1.14248888, -0.53342316,  0.82058444,\n",
       "       -0.83725673, -0.53224141, -1.61694673,  1.01191797, -0.93354043])"
      ]
     },
     "execution_count": 31,
     "metadata": {},
     "output_type": "execute_result"
    }
   ],
   "source": [
    "np.random.randn(10)"
   ]
  },
  {
   "cell_type": "markdown",
   "id": "f4d7dec2-49c9-45c9-83de-eed915d05b15",
   "metadata": {},
   "source": [
    "Tạo ra ma trận ngẫu nhiên từ a đến b"
   ]
  },
  {
   "cell_type": "code",
   "execution_count": 32,
   "id": "6b063b54-99cc-4ae7-bbe8-0f4baf83cb80",
   "metadata": {},
   "outputs": [
    {
     "data": {
      "text/plain": [
       "array([8, 4, 7, 7, 1, 5, 5, 3, 8, 3, 4, 7, 2, 1, 2, 4, 5, 9, 5, 3])"
      ]
     },
     "execution_count": 32,
     "metadata": {},
     "output_type": "execute_result"
    }
   ],
   "source": [
    "np.random.randint(1, 10, 20)"
   ]
  },
  {
   "cell_type": "markdown",
   "id": "2f71c22a-711d-4d5f-9619-be20471195ef",
   "metadata": {},
   "source": [
    "## 3. Hàm liên quan tới việc thay đổi hình dạng mảng"
   ]
  },
  {
   "cell_type": "code",
   "execution_count": 46,
   "id": "e0b9c23b-71b4-4488-b3d4-768dfad3d9cf",
   "metadata": {},
   "outputs": [
    {
     "data": {
      "text/plain": [
       "array([ 0,  1,  2,  3,  4,  5,  6,  7,  8,  9, 10, 11, 12, 13, 14, 15, 16,\n",
       "       17, 18, 19])"
      ]
     },
     "execution_count": 46,
     "metadata": {},
     "output_type": "execute_result"
    }
   ],
   "source": [
    "array_1 = np.arange(20)\n",
    "array_1"
   ]
  },
  {
   "cell_type": "code",
   "execution_count": 47,
   "id": "783de3cc-3b35-4312-9836-766524ff1044",
   "metadata": {},
   "outputs": [
    {
     "data": {
      "text/plain": [
       "(20,)"
      ]
     },
     "execution_count": 47,
     "metadata": {},
     "output_type": "execute_result"
    }
   ],
   "source": [
    "array_1.shape"
   ]
  },
  {
   "cell_type": "code",
   "execution_count": 48,
   "id": "6f8942f5-eb69-4895-9dc0-3cd72f38b055",
   "metadata": {},
   "outputs": [],
   "source": [
    "array_1 = array_1.reshape(5,4) #Không thể thay đổi cỡ mà to hơn kích thước mảng gốc được"
   ]
  },
  {
   "cell_type": "code",
   "execution_count": 49,
   "id": "049e234b-a92c-429d-9ef0-bac489be806a",
   "metadata": {},
   "outputs": [
    {
     "data": {
      "text/plain": [
       "(5, 4)"
      ]
     },
     "execution_count": 49,
     "metadata": {},
     "output_type": "execute_result"
    }
   ],
   "source": [
    "array_1.shape"
   ]
  },
  {
   "cell_type": "markdown",
   "id": "d39afa74-4ab7-4591-932d-cdbf10943367",
   "metadata": {},
   "source": [
    "## 4. Hàm liên quan đến max-min trong mảng, ma trận"
   ]
  },
  {
   "cell_type": "code",
   "execution_count": 59,
   "id": "35b1b379-ee3f-48e1-9753-d8a80f0405b5",
   "metadata": {},
   "outputs": [
    {
     "data": {
      "text/plain": [
       "array([[6, 5, 3],\n",
       "       [4, 2, 1]])"
      ]
     },
     "execution_count": 59,
     "metadata": {},
     "output_type": "execute_result"
    }
   ],
   "source": [
    "list_test_4 = np.array([[6,5,3],[4,2,1]])\n",
    "list_test_4"
   ]
  },
  {
   "cell_type": "code",
   "execution_count": 60,
   "id": "4db90058-d111-4fef-8135-90af4d4e97a8",
   "metadata": {},
   "outputs": [
    {
     "data": {
      "text/plain": [
       "6"
      ]
     },
     "execution_count": 60,
     "metadata": {},
     "output_type": "execute_result"
    }
   ],
   "source": [
    "list_test_4.max()"
   ]
  },
  {
   "cell_type": "code",
   "execution_count": 61,
   "id": "ce7daad9-3602-4fe7-8e2b-3af73dde77d8",
   "metadata": {},
   "outputs": [
    {
     "data": {
      "text/plain": [
       "1"
      ]
     },
     "execution_count": 61,
     "metadata": {},
     "output_type": "execute_result"
    }
   ],
   "source": [
    "list_test_4.min()"
   ]
  },
  {
   "cell_type": "code",
   "execution_count": 62,
   "id": "6851a1b5-d272-4a32-a039-1f41cc72360c",
   "metadata": {},
   "outputs": [
    {
     "data": {
      "text/plain": [
       "0"
      ]
     },
     "execution_count": 62,
     "metadata": {},
     "output_type": "execute_result"
    }
   ],
   "source": [
    "list_test_4.argmax()"
   ]
  },
  {
   "cell_type": "code",
   "execution_count": 63,
   "id": "f99b49f9-d880-4062-b1a6-fb14a33fde71",
   "metadata": {},
   "outputs": [
    {
     "data": {
      "text/plain": [
       "5"
      ]
     },
     "execution_count": 63,
     "metadata": {},
     "output_type": "execute_result"
    }
   ],
   "source": [
    "list_test_4.argmin()"
   ]
  },
  {
   "cell_type": "markdown",
   "id": "a9fefa1d-cb97-4ceb-9cad-fc4c425e5eeb",
   "metadata": {},
   "source": [
    "## 5. Check xem ma trận có kiểu gì"
   ]
  },
  {
   "cell_type": "code",
   "execution_count": 65,
   "id": "77afac8f-2d3a-4f8d-9345-dc8fcca4f3fd",
   "metadata": {},
   "outputs": [
    {
     "data": {
      "text/plain": [
       "dtype('int32')"
      ]
     },
     "execution_count": 65,
     "metadata": {},
     "output_type": "execute_result"
    }
   ],
   "source": [
    "list_test_4.dtype"
   ]
  },
  {
   "cell_type": "markdown",
   "id": "81d73523-d292-4138-9eab-3fa2ba87488c",
   "metadata": {},
   "source": [
    "## 6. BONUS: Random số trong numpy"
   ]
  },
  {
   "cell_type": "code",
   "execution_count": 66,
   "id": "77e12c3a-e6b3-4e99-8170-157afdf83113",
   "metadata": {},
   "outputs": [
    {
     "data": {
      "text/plain": [
       "5"
      ]
     },
     "execution_count": 66,
     "metadata": {},
     "output_type": "execute_result"
    }
   ],
   "source": [
    "from numpy.random import randint\n",
    "randint(2, 10)"
   ]
  },
  {
   "cell_type": "code",
   "execution_count": null,
   "id": "d167ae80-57d7-48ff-88e5-f85a978b34e6",
   "metadata": {},
   "outputs": [],
   "source": []
  }
 ],
 "metadata": {
  "kernelspec": {
   "display_name": "Python 3 (ipykernel)",
   "language": "python",
   "name": "python3"
  },
  "language_info": {
   "codemirror_mode": {
    "name": "ipython",
    "version": 3
   },
   "file_extension": ".py",
   "mimetype": "text/x-python",
   "name": "python",
   "nbconvert_exporter": "python",
   "pygments_lexer": "ipython3",
   "version": "3.11.9"
  }
 },
 "nbformat": 4,
 "nbformat_minor": 5
}
