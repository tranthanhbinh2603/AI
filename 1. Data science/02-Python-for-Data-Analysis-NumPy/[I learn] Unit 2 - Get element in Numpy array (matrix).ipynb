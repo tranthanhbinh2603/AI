{
 "cells": [
  {
   "cell_type": "code",
   "execution_count": 15,
   "id": "28680fc2-23c4-40d7-bf20-b1fe942aa786",
   "metadata": {},
   "outputs": [],
   "source": [
    "import numpy as np\n",
    "#in ra nhiều câu lệnh trong 1 dòng\n",
    "from IPython.core.interactiveshell import InteractiveShell\n",
    "InteractiveShell.ast_node_interactivity = \"all\""
   ]
  },
  {
   "cell_type": "markdown",
   "id": "fb52323c-4996-4d22-834a-2ac3084b1e77",
   "metadata": {},
   "source": [
    "# 1. Lấy dữ liệu trong mảng 1 chiều\n",
    "## a. Lấy 1 phần tử"
   ]
  },
  {
   "cell_type": "code",
   "execution_count": 16,
   "id": "5b353c14-53db-4a63-a24a-56f85f9c6a56",
   "metadata": {},
   "outputs": [
    {
     "data": {
      "text/plain": [
       "array([0, 1, 2, 3, 4, 5, 6, 7, 8, 9])"
      ]
     },
     "execution_count": 16,
     "metadata": {},
     "output_type": "execute_result"
    }
   ],
   "source": [
    "arr_1d = np.arange(10)\n",
    "arr_1d"
   ]
  },
  {
   "cell_type": "code",
   "execution_count": 17,
   "id": "ea6a57c5-5ef8-4782-adba-f86b43c3d303",
   "metadata": {},
   "outputs": [
    {
     "data": {
      "text/plain": [
       "4"
      ]
     },
     "execution_count": 17,
     "metadata": {},
     "output_type": "execute_result"
    }
   ],
   "source": [
    "arr_1d[4]"
   ]
  },
  {
   "cell_type": "markdown",
   "id": "b95adf6b-ce52-40d1-a13f-591ff44abba0",
   "metadata": {},
   "source": [
    "## b. Lấy nhiều phần tử liên tục"
   ]
  },
  {
   "cell_type": "code",
   "execution_count": 18,
   "id": "ffe5a624-0bec-47ea-b69b-1c62dd2b0943",
   "metadata": {},
   "outputs": [
    {
     "data": {
      "text/plain": [
       "array([1, 2])"
      ]
     },
     "execution_count": 18,
     "metadata": {},
     "output_type": "execute_result"
    }
   ],
   "source": [
    "arr_1d[1:3] #From a'th element to b-1'th element"
   ]
  },
  {
   "cell_type": "code",
   "execution_count": 19,
   "id": "07e3c06e-60df-4a3e-95b0-b91579647def",
   "metadata": {},
   "outputs": [
    {
     "data": {
      "text/plain": [
       "array([5, 6, 7, 8, 9])"
      ]
     },
     "execution_count": 19,
     "metadata": {},
     "output_type": "execute_result"
    }
   ],
   "source": [
    "arr_1d[5:] #Same arr_1d[5:10] or arr_1d[5:len(arr_1d)]"
   ]
  },
  {
   "cell_type": "code",
   "execution_count": 20,
   "id": "61b29a7b-2407-4150-895c-204fb6d2bfb5",
   "metadata": {},
   "outputs": [
    {
     "data": {
      "text/plain": [
       "array([0, 1, 2])"
      ]
     },
     "execution_count": 20,
     "metadata": {},
     "output_type": "execute_result"
    }
   ],
   "source": [
    "arr_1d[:3] #Same arr_1d[0:3]"
   ]
  },
  {
   "cell_type": "code",
   "execution_count": 21,
   "id": "c7f242d8-00d3-4cb7-ad49-d756e6271cba",
   "metadata": {},
   "outputs": [
    {
     "data": {
      "text/plain": [
       "array([0, 1, 2, 3, 4, 5, 6, 7, 8, 9])"
      ]
     },
     "execution_count": 21,
     "metadata": {},
     "output_type": "execute_result"
    }
   ],
   "source": [
    "arr_1d[:] #Same arr_1d"
   ]
  },
  {
   "cell_type": "markdown",
   "id": "7b147e29-944b-4493-b160-251c402f8bea",
   "metadata": {},
   "source": [
    "## c. Thay đổi giá trị phần tử ở 1 hay nhiều phần tử liên tục"
   ]
  },
  {
   "cell_type": "code",
   "execution_count": 22,
   "id": "0c80ae43-0844-451a-98a4-8f3499ec36c4",
   "metadata": {},
   "outputs": [
    {
     "data": {
      "text/plain": [
       "array([100,   1,   2,   3,   4,   5,   6,   7,   8,   9])"
      ]
     },
     "execution_count": 22,
     "metadata": {},
     "output_type": "execute_result"
    }
   ],
   "source": [
    "arr_1d[0] = 100\n",
    "arr_1d"
   ]
  },
  {
   "cell_type": "code",
   "execution_count": 23,
   "id": "b2d4628b-b589-4e7d-8e99-1fae7a58132e",
   "metadata": {},
   "outputs": [
    {
     "data": {
      "text/plain": [
       "array([1, 2, 3, 4, 5])"
      ]
     },
     "execution_count": 23,
     "metadata": {},
     "output_type": "execute_result"
    }
   ],
   "source": [
    "arr_temp = arr_1d[1:6]\n",
    "arr_temp"
   ]
  },
  {
   "cell_type": "code",
   "execution_count": 24,
   "id": "fbdcde21-4430-460f-b03d-739dd2b2af30",
   "metadata": {},
   "outputs": [
    {
     "data": {
      "text/plain": [
       "array([100, 500, 500, 500, 500, 500,   6,   7,   8,   9])"
      ]
     },
     "execution_count": 24,
     "metadata": {},
     "output_type": "execute_result"
    },
    {
     "data": {
      "text/plain": [
       "array([500, 500, 500, 500, 500])"
      ]
     },
     "execution_count": 24,
     "metadata": {},
     "output_type": "execute_result"
    }
   ],
   "source": [
    "arr_temp[:] = 500\n",
    "arr_1d\n",
    "arr_temp"
   ]
  },
  {
   "cell_type": "markdown",
   "id": "ef0c2201-0a78-41e9-bf66-5d32a275dd57",
   "metadata": {},
   "source": [
    "## d. Điều kiện bên trong mảng"
   ]
  },
  {
   "cell_type": "code",
   "execution_count": 26,
   "id": "b1e1e15b-c141-4195-923b-b3a487158aaa",
   "metadata": {},
   "outputs": [
    {
     "data": {
      "text/plain": [
       "array([6, 7, 8, 9])"
      ]
     },
     "execution_count": 26,
     "metadata": {},
     "output_type": "execute_result"
    }
   ],
   "source": [
    "arr_1d[arr_1d < 10]"
   ]
  },
  {
   "cell_type": "markdown",
   "id": "822c08b3-77cb-4334-8f11-4bf1143e5dbd",
   "metadata": {},
   "source": [
    "# 2. Lấy dữ liệu trong mảng 2 chiều"
   ]
  },
  {
   "cell_type": "markdown",
   "id": "d79c4e13",
   "metadata": {},
   "source": [
    "## a. Lấy 1 phần tử"
   ]
  },
  {
   "cell_type": "code",
   "execution_count": 27,
   "id": "aaf296dd",
   "metadata": {},
   "outputs": [
    {
     "data": {
      "text/plain": [
       "array([[ 5, 10, 15],\n",
       "       [20, 25, 30],\n",
       "       [35, 40, 45]])"
      ]
     },
     "execution_count": 27,
     "metadata": {},
     "output_type": "execute_result"
    }
   ],
   "source": [
    "arr_2d = np.arange(5, 50, 5).reshape(3,3)\n",
    "arr_2d"
   ]
  },
  {
   "cell_type": "code",
   "execution_count": 28,
   "id": "cfa0cd50-c1dc-43ed-8b51-5d3c0ec709b8",
   "metadata": {},
   "outputs": [
    {
     "data": {
      "text/plain": [
       "30"
      ]
     },
     "execution_count": 28,
     "metadata": {},
     "output_type": "execute_result"
    },
    {
     "data": {
      "text/plain": [
       "30"
      ]
     },
     "execution_count": 28,
     "metadata": {},
     "output_type": "execute_result"
    }
   ],
   "source": [
    "arr_2d[1,2]\n",
    "arr_2d[1][2]"
   ]
  },
  {
   "cell_type": "code",
   "execution_count": 29,
   "id": "532d7c3f-75c6-416e-8302-b597c4b5de7c",
   "metadata": {},
   "outputs": [
    {
     "data": {
      "text/plain": [
       "array([[10, 15],\n",
       "       [25, 30]])"
      ]
     },
     "execution_count": 29,
     "metadata": {},
     "output_type": "execute_result"
    }
   ],
   "source": [
    "arr_2d[:2,1:] #Lấy từ dòng 0 đến dòng 1, lấy từ cột 1 đến cột cuối (cột 2)"
   ]
  },
  {
   "cell_type": "code",
   "execution_count": 30,
   "id": "4b265d22-7641-4ef0-9212-6e1b8559b111",
   "metadata": {},
   "outputs": [
    {
     "data": {
      "text/plain": [
       "array([[ 5, 10, 15],\n",
       "       [20, 25, 30]])"
      ]
     },
     "execution_count": 30,
     "metadata": {},
     "output_type": "execute_result"
    }
   ],
   "source": [
    "arr_2d[:2] #Lấy hết từ dòng 0 đến dòng 1"
   ]
  }
 ],
 "metadata": {
  "kernelspec": {
   "display_name": "Python 3 (ipykernel)",
   "language": "python",
   "name": "python3"
  },
  "language_info": {
   "codemirror_mode": {
    "name": "ipython",
    "version": 3
   },
   "file_extension": ".py",
   "mimetype": "text/x-python",
   "name": "python",
   "nbconvert_exporter": "python",
   "pygments_lexer": "ipython3",
   "version": "3.12.2"
  }
 },
 "nbformat": 4,
 "nbformat_minor": 5
}
